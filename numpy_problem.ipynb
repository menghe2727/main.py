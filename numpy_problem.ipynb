{
 "cells": [
  {
   "cell_type": "code",
   "execution_count": 5,
   "outputs": [],
   "source": [
    "#1. 导入numpy库并简写为 np (★☆☆)\n",
    "#(提示: import … as …)\n",
    "import numpy\n",
    "import numpy as np\n",
    "# import numpy as np"
   ],
   "metadata": {
    "collapsed": false,
    "pycharm": {
     "name": "#%%\n"
    }
   }
  },
  {
   "cell_type": "code",
   "execution_count": 7,
   "outputs": [
    {
     "name": "stdout",
     "output_type": "stream",
     "text": [
      "openblas64__info:\n",
      "    library_dirs = ['D:\\\\a\\\\1\\\\s\\\\numpy\\\\build\\\\openblas64__info']\n",
      "    libraries = ['openblas64__info']\n",
      "    language = f77\n",
      "    define_macros = [('HAVE_CBLAS', None), ('BLAS_SYMBOL_SUFFIX', '64_'), ('HAVE_BLAS_ILP64', None)]\n",
      "blas_ilp64_opt_info:\n",
      "    library_dirs = ['D:\\\\a\\\\1\\\\s\\\\numpy\\\\build\\\\openblas64__info']\n",
      "    libraries = ['openblas64__info']\n",
      "    language = f77\n",
      "    define_macros = [('HAVE_CBLAS', None), ('BLAS_SYMBOL_SUFFIX', '64_'), ('HAVE_BLAS_ILP64', None)]\n",
      "openblas64__lapack_info:\n",
      "    library_dirs = ['D:\\\\a\\\\1\\\\s\\\\numpy\\\\build\\\\openblas64__lapack_info']\n",
      "    libraries = ['openblas64__lapack_info']\n",
      "    language = f77\n",
      "    define_macros = [('HAVE_CBLAS', None), ('BLAS_SYMBOL_SUFFIX', '64_'), ('HAVE_BLAS_ILP64', None), ('HAVE_LAPACKE', None)]\n",
      "lapack_ilp64_opt_info:\n",
      "    library_dirs = ['D:\\\\a\\\\1\\\\s\\\\numpy\\\\build\\\\openblas64__lapack_info']\n",
      "    libraries = ['openblas64__lapack_info']\n",
      "    language = f77\n",
      "    define_macros = [('HAVE_CBLAS', None), ('BLAS_SYMBOL_SUFFIX', '64_'), ('HAVE_BLAS_ILP64', None), ('HAVE_LAPACKE', None)]\n",
      "Supported SIMD extensions in this NumPy install:\n",
      "    baseline = SSE,SSE2,SSE3\n",
      "    found = SSSE3,SSE41,POPCNT,SSE42,AVX,F16C,FMA3,AVX2\n",
      "    not found = AVX512F,AVX512CD,AVX512_SKX,AVX512_CLX,AVX512_CNL,AVX512_ICL\n"
     ]
    }
   ],
   "source": [
    "#2. 打印numpy的版本和配置说明 (★☆☆)\n",
    "#(提示: np.__version__, np.show_config)\n",
    "np.__version__\n",
    "np.show_config()\n",
    "# print(np.__version__)\n",
    "# np.show_config()"
   ],
   "metadata": {
    "collapsed": false,
    "pycharm": {
     "name": "#%%\n"
    }
   }
  },
  {
   "cell_type": "code",
   "execution_count": 8,
   "outputs": [
    {
     "name": "stdout",
     "output_type": "stream",
     "text": [
      "[0. 0. 0. 0. 0. 0. 0. 0. 0. 0.]\n"
     ]
    }
   ],
   "source": [
    "#3. 创建一个长度为10的空向量 (★☆☆)\n",
    "#(提示: np.zeros)\n",
    "X=np.zeros(10)\n",
    "print(X)\n",
    "# Z = np.zeros(10)\n",
    "# print(Z)"
   ],
   "metadata": {
    "collapsed": false,
    "pycharm": {
     "name": "#%%\n"
    }
   }
  },
  {
   "cell_type": "code",
   "execution_count": 9,
   "outputs": [
    {
     "name": "stdout",
     "output_type": "stream",
     "text": [
      "80 bytes\n"
     ]
    }
   ],
   "source": [
    "#4. 如何找到任何一个数组的内存大小？ (★☆☆)\n",
    "#(提示: size, itemsize)\n",
    "print(\"%d bytes\" % (X.size*X.itemsize))\n",
    "# Z = np.zeros((10,10))\n",
    "# print(\"%d bytes\" % (Z.size * Z.itemsize))"
   ],
   "metadata": {
    "collapsed": false,
    "pycharm": {
     "name": "#%%\n"
    }
   }
  },
  {
   "cell_type": "code",
   "execution_count": 20,
   "outputs": [
    {
     "name": "stdout",
     "output_type": "stream",
     "text": [
      " info(object=None, maxwidth=76,\n",
      "      output=<ipykernel.iostream.OutStream object at 0x000001CEE8C9A8B0>,\n",
      "      toplevel='numpy')\n",
      "\n",
      "Get help information for a function, class, or module.\n",
      "\n",
      "Parameters\n",
      "----------\n",
      "object : object or str, optional\n",
      "    Input object or name to get information about. If `object` is a\n",
      "    numpy object, its docstring is given. If it is a string, available\n",
      "    modules are searched for matching objects.  If None, information\n",
      "    about `info` itself is returned.\n",
      "maxwidth : int, optional\n",
      "    Printing width.\n",
      "output : file like object, optional\n",
      "    File like object that the output is written to, default is\n",
      "    ``stdout``.  The object has to be opened in 'w' or 'a' mode.\n",
      "toplevel : str, optional\n",
      "    Start search at this level.\n",
      "\n",
      "See Also\n",
      "--------\n",
      "source, lookfor\n",
      "\n",
      "Notes\n",
      "-----\n",
      "When used interactively with an object, ``np.info(obj)`` is equivalent\n",
      "to ``help(obj)`` on the Python prompt or ``obj?`` on the IPython\n",
      "prompt.\n",
      "\n",
      "Examples\n",
      "--------\n",
      ">>> np.info(np.polyval) # doctest: +SKIP\n",
      "   polyval(p, x)\n",
      "     Evaluate the polynomial p at x.\n",
      "     ...\n",
      "\n",
      "When using a string for `object` it is possible to get multiple results.\n",
      "\n",
      ">>> np.info('fft') # doctest: +SKIP\n",
      "     *** Found in numpy ***\n",
      "Core FFT routines\n",
      "...\n",
      "     *** Found in numpy.fft ***\n",
      " fft(a, n=None, axis=-1)\n",
      "...\n",
      "     *** Repeat reference found in numpy.fft.fftpack ***\n",
      "     *** Total of 3 references found. ***\n"
     ]
    },
    {
     "ename": "TypeError",
     "evalue": "add() takes from 2 to 3 positional arguments but 0 were given",
     "output_type": "error",
     "traceback": [
      "\u001B[1;31m---------------------------------------------------------------------------\u001B[0m",
      "\u001B[1;31mTypeError\u001B[0m                                 Traceback (most recent call last)",
      "Input \u001B[1;32mIn [20]\u001B[0m, in \u001B[0;36m<module>\u001B[1;34m\u001B[0m\n\u001B[0;32m      1\u001B[0m \u001B[38;5;66;03m#5. 如何从命令行得到numpy中add函数的说明文档? (★☆☆)\u001B[39;00m\n\u001B[0;32m      2\u001B[0m \u001B[38;5;66;03m#(提示: np.info)\u001B[39;00m\n\u001B[0;32m      3\u001B[0m np\u001B[38;5;241m.\u001B[39minfo()\n\u001B[1;32m----> 4\u001B[0m \u001B[43mnp\u001B[49m\u001B[38;5;241;43m.\u001B[39;49m\u001B[43madd\u001B[49m\u001B[43m(\u001B[49m\u001B[43m)\u001B[49m\n",
      "\u001B[1;31mTypeError\u001B[0m: add() takes from 2 to 3 positional arguments but 0 were given"
     ]
    }
   ],
   "source": [
    "#5. 如何从命令行得到numpy中add函数的说明文档? (★☆☆)\n",
    "#(提示: np.info)\n",
    "np.info()\n",
    "# numpy.info(np.add)"
   ],
   "metadata": {
    "collapsed": false,
    "pycharm": {
     "name": "#%%\n"
    }
   }
  },
  {
   "cell_type": "code",
   "execution_count": 21,
   "outputs": [
    {
     "name": "stdout",
     "output_type": "stream",
     "text": [
      "[0. 0. 0. 0. 1. 0. 0. 0. 0. 0.]\n"
     ]
    }
   ],
   "source": [
    "#6. 创建一个长度为10并且除了第五个值为1的空向量 (★☆☆)\n",
    "#(提示: array[4])\n",
    "X=np.zeros(10)\n",
    "X[4]=1\n",
    "print(X)\n",
    "# Z = np.zeros(10)\n",
    "# Z[4] = 1\n",
    "# print(Z)\n"
   ],
   "metadata": {
    "collapsed": false,
    "pycharm": {
     "name": "#%%\n"
    }
   }
  },
  {
   "cell_type": "code",
   "execution_count": 30,
   "outputs": [
    {
     "name": "stdout",
     "output_type": "stream",
     "text": [
      "[10 11 12 13 14 15 16 17 18 19 20 21 22 23 24 25 26 27 28 29 30 31 32 33\n",
      " 34 35 36 37 38 39 40 41 42 43 44 45 46 47 48 49]\n"
     ]
    }
   ],
   "source": [
    "#7. 创建一个值域范围从10到49的向量(★☆☆)\n",
    "#(提示: np.arange)\n",
    "X=np.arange(10,50)\n",
    "print(X)\n",
    "# Z = np.arrange(10,50)\n",
    "# print(Z)\n"
   ],
   "metadata": {
    "collapsed": false,
    "pycharm": {
     "name": "#%%\n"
    }
   }
  },
  {
   "cell_type": "code",
   "execution_count": 35,
   "outputs": [
    {
     "name": "stdout",
     "output_type": "stream",
     "text": [
      "[49 48 47 46 45 44 43 42 41 40 39 38 37 36 35 34 33 32 31 30 29 28 27 26\n",
      " 25 24 23 22 21 20 19 18 17 16 15 14 13 12 11 10]\n",
      "[10 11 12 13 14 15 16 17 18 19 20 21 22 23 24 25 26 27 28 29 30 31 32 33\n",
      " 34 35 36 37 38 39 40 41 42 43 44 45 46 47 48 49]\n"
     ]
    }
   ],
   "source": [
    "#8. 反转一个向量(第一个元素变为最后一个) (★☆☆)\n",
    "#(提示: array[::-1])\n",
    "X=np.arange(10,50)\n",
    "X=X[::-1]\n",
    "print(X)\n",
    "# Z = np.arange(50)\n",
    "# Z = Z[::-1]\n",
    "# print(Z)\n"
   ],
   "metadata": {
    "collapsed": false,
    "pycharm": {
     "name": "#%%\n"
    }
   }
  },
  {
   "cell_type": "code",
   "execution_count": 36,
   "outputs": [
    {
     "name": "stdout",
     "output_type": "stream",
     "text": [
      "[[0 1 2]\n",
      " [3 4 5]\n",
      " [6 7 8]]\n"
     ]
    }
   ],
   "source": [
    "#9. 创建一个 3x3 并且值从0到8的矩阵(★☆☆)\n",
    "#(提示: reshape)\n",
    "X=np.arange(9).reshape(3,3)\n",
    "print(X)\n",
    "# Z = np.arange(9).reshape(3,3)\n",
    "# print(Z)\n"
   ],
   "metadata": {
    "collapsed": false,
    "pycharm": {
     "name": "#%%\n"
    }
   }
  },
  {
   "cell_type": "code",
   "execution_count": 38,
   "outputs": [
    {
     "name": "stdout",
     "output_type": "stream",
     "text": [
      "(array([0, 1, 4], dtype=int64),)\n"
     ]
    }
   ],
   "source": [
    "#10. 找到数组[1,2,0,0,4,0]中非0元素的位置索引 (★☆☆)\n",
    "#(提示: np.nonzero)\n",
    "nz=np.nonzero([1,2,0,0,4,0])\n",
    "print(nz)\n",
    "# nz = np.nonzero([1,2,0,0,4,0])\n",
    "# print(nz)"
   ],
   "metadata": {
    "collapsed": false,
    "pycharm": {
     "name": "#%%\n"
    }
   }
  },
  {
   "cell_type": "code",
   "execution_count": 40,
   "outputs": [
    {
     "name": "stdout",
     "output_type": "stream",
     "text": [
      "[[1. 0. 0.]\n",
      " [0. 1. 0.]\n",
      " [0. 0. 1.]]\n"
     ]
    }
   ],
   "source": [
    "#11. 创建一个 3x3 的单位矩阵 (★☆☆)\n",
    "#(提示: np.eye)\n",
    "X=np.eye(3)\n",
    "print(X)\n",
    "# Z = np.eye(3)\n",
    "# print(Z)"
   ],
   "metadata": {
    "collapsed": false,
    "pycharm": {
     "name": "#%%\n"
    }
   }
  },
  {
   "cell_type": "code",
   "execution_count": 43,
   "outputs": [
    {
     "name": "stdout",
     "output_type": "stream",
     "text": [
      "[[[0.08534171 0.36817932 0.65046219]\n",
      "  [0.17154688 0.86614776 0.2189842 ]\n",
      "  [0.1750815  0.57681295 0.55375251]]\n",
      "\n",
      " [[0.5166005  0.28398982 0.40314358]\n",
      "  [0.01821713 0.38747153 0.63199697]\n",
      "  [0.49895975 0.58771899 0.00691628]]\n",
      "\n",
      " [[0.99794832 0.34097392 0.77241173]\n",
      "  [0.95112154 0.81168739 0.18099948]\n",
      "  [0.11196475 0.07690622 0.13916781]]]\n"
     ]
    }
   ],
   "source": [
    "#12. 创建一个 3x3x3的随机数组 (★☆☆)\n",
    "#(提示: np.random.random)\n",
    "X=np.random.random((3,3,3))\n",
    "print(X)\n",
    "# Z = np.random.random((3,3,3))\n",
    "# print(Z)"
   ],
   "metadata": {
    "collapsed": false,
    "pycharm": {
     "name": "#%%\n"
    }
   }
  },
  {
   "cell_type": "code",
   "execution_count": 44,
   "outputs": [
    {
     "name": "stdout",
     "output_type": "stream",
     "text": [
      "0.9817452805481488 0.010052055023241357\n"
     ]
    }
   ],
   "source": [
    "#13. 创建一个 10x10 的随机数组并找到它的最大值和最小值 (★☆☆)\n",
    "#(提示: min, max)\n",
    "X=np.random.random((10,10))\n",
    "Xmax=np.max(X)\n",
    "Xmin=np.min(X)\n",
    "print(Xmax,Xmin)\n",
    "# Z = np.random.random((10,10))\n",
    "# Zmin, Zmax = Z.min(), Z.max()\n",
    "# print(Zmin, Zmax)"
   ],
   "metadata": {
    "collapsed": false,
    "pycharm": {
     "name": "#%%\n"
    }
   }
  },
  {
   "cell_type": "code",
   "execution_count": 46,
   "outputs": [
    {
     "name": "stdout",
     "output_type": "stream",
     "text": [
      "0.504260653799521\n"
     ]
    }
   ],
   "source": [
    "#14. 创建一个长度为30的随机向量并找到它的平均值 (★☆☆)\n",
    "#(提示: mean)\n",
    "X=np.random.random(30)\n",
    "X_mean=X.mean()\n",
    "print(X_mean)\n",
    "# Z = np.random.random(30)\n",
    "# m = Z.mean()\n",
    "# print(m)"
   ],
   "metadata": {
    "collapsed": false,
    "pycharm": {
     "name": "#%%\n"
    }
   }
  },
  {
   "cell_type": "code",
   "execution_count": 47,
   "outputs": [
    {
     "name": "stdout",
     "output_type": "stream",
     "text": [
      "[[1. 1. 1. 1. 1. 1. 1. 1. 1. 1.]\n",
      " [1. 0. 0. 0. 0. 0. 0. 0. 0. 1.]\n",
      " [1. 0. 0. 0. 0. 0. 0. 0. 0. 1.]\n",
      " [1. 0. 0. 0. 0. 0. 0. 0. 0. 1.]\n",
      " [1. 0. 0. 0. 0. 0. 0. 0. 0. 1.]\n",
      " [1. 0. 0. 0. 0. 0. 0. 0. 0. 1.]\n",
      " [1. 0. 0. 0. 0. 0. 0. 0. 0. 1.]\n",
      " [1. 0. 0. 0. 0. 0. 0. 0. 0. 1.]\n",
      " [1. 0. 0. 0. 0. 0. 0. 0. 0. 1.]\n",
      " [1. 1. 1. 1. 1. 1. 1. 1. 1. 1.]]\n"
     ]
    }
   ],
   "source": [
    "#15. 创建一个二维数组，其中边界值为1，其余值为0 (★☆☆)\n",
    "#(提示: array[1:-1, 1:-1])\n",
    "X=np.ones((10,10))\n",
    "X[1:-1,1:-1]=0\n",
    "print(X)\n",
    "# Z = np.ones((10,10))\n",
    "# Z[1:-1,1:-1] = 0\n",
    "# print(Z)\n"
   ],
   "metadata": {
    "collapsed": false,
    "pycharm": {
     "name": "#%%\n"
    }
   }
  },
  {
   "cell_type": "code",
   "execution_count": 49,
   "outputs": [
    {
     "name": "stdout",
     "output_type": "stream",
     "text": [
      "[[0. 0. 0. 0. 0. 0. 0. 0. 0. 0. 0. 0. 0. 0. 0.]\n",
      " [0. 0. 0. 0. 0. 0. 0. 0. 0. 0. 0. 0. 0. 0. 0.]\n",
      " [0. 0. 0. 0. 0. 0. 0. 0. 0. 0. 0. 0. 0. 0. 0.]\n",
      " [0. 0. 0. 0. 0. 0. 0. 0. 0. 0. 0. 0. 0. 0. 0.]\n",
      " [0. 0. 0. 0. 0. 0. 0. 0. 0. 0. 0. 0. 0. 0. 0.]\n",
      " [0. 0. 0. 0. 0. 1. 1. 1. 1. 1. 0. 0. 0. 0. 0.]\n",
      " [0. 0. 0. 0. 0. 1. 1. 1. 1. 1. 0. 0. 0. 0. 0.]\n",
      " [0. 0. 0. 0. 0. 1. 1. 1. 1. 1. 0. 0. 0. 0. 0.]\n",
      " [0. 0. 0. 0. 0. 1. 1. 1. 1. 1. 0. 0. 0. 0. 0.]\n",
      " [0. 0. 0. 0. 0. 1. 1. 1. 1. 1. 0. 0. 0. 0. 0.]\n",
      " [0. 0. 0. 0. 0. 0. 0. 0. 0. 0. 0. 0. 0. 0. 0.]\n",
      " [0. 0. 0. 0. 0. 0. 0. 0. 0. 0. 0. 0. 0. 0. 0.]\n",
      " [0. 0. 0. 0. 0. 0. 0. 0. 0. 0. 0. 0. 0. 0. 0.]\n",
      " [0. 0. 0. 0. 0. 0. 0. 0. 0. 0. 0. 0. 0. 0. 0.]\n",
      " [0. 0. 0. 0. 0. 0. 0. 0. 0. 0. 0. 0. 0. 0. 0.]]\n"
     ]
    }
   ],
   "source": [
    "#16. 对于一个存在在数组，如何添加一个用0填充的边界? (★☆☆)\n",
    "#(提示: np.pad)\n",
    "X=np.ones((5,5))\n",
    "X=np.pad(X,pad_width=5,mode='constant',constant_values=0)\n",
    "print(X)\n",
    "# Z = np.ones((5,5))\n",
    "# Z = np.pad(Z, pad_width=1, mode='constant', constant_values=0)\n",
    "# print(Z)\n"
   ],
   "metadata": {
    "collapsed": false,
    "pycharm": {
     "name": "#%%\n"
    }
   }
  },
  {
   "cell_type": "code",
   "execution_count": 50,
   "outputs": [
    {
     "name": "stdout",
     "output_type": "stream",
     "text": [
      "nan\n",
      "False\n",
      "False\n",
      "nan\n",
      "False\n"
     ]
    }
   ],
   "source": [
    "#17. 以下表达式运行的结果分别是什么? (★☆☆)\n",
    "#(提示: NaN = not a number, inf = infinity)\n",
    "\n",
    "print(0 * np.nan)\n",
    "print(np.nan == np.nan)\n",
    "print(np.inf > np.nan)\n",
    "print(np.nan - np.nan)\n",
    "print(0.3 == 3 * 0.1)\n",
    "# print(0 * np.nan)\n",
    "# print(np.nan == np.nan)\n",
    "# print(np.inf > np.nan)\n",
    "# print(np.nan - np.nan)\n",
    "# print(0.3 == 3 * 0.1)\n",
    "#only 3 * 0.1(or some 0.1 times with a number between 1 and 9) is approximate with 0.30000000000000004\n"
   ],
   "metadata": {
    "collapsed": false,
    "pycharm": {
     "name": "#%%\n"
    }
   }
  },
  {
   "cell_type": "code",
   "execution_count": 51,
   "outputs": [
    {
     "name": "stdout",
     "output_type": "stream",
     "text": [
      "[[0 0 0 0 0]\n",
      " [1 0 0 0 0]\n",
      " [0 2 0 0 0]\n",
      " [0 0 3 0 0]\n",
      " [0 0 0 4 0]]\n"
     ]
    }
   ],
   "source": [
    "#18. 创建一个 5x5的矩阵，并设置值1,2,3,4落在其对角线下方位置 (★☆☆)\n",
    "#(提示: np.diag)\n",
    "X=np.diag(1+np.arange(4),k=-1)\n",
    "print(X)\n",
    "# Z = np.diag(1+np.arange(4),k=-1)\n",
    "# print(Z)\n"
   ],
   "metadata": {
    "collapsed": false,
    "pycharm": {
     "name": "#%%\n"
    }
   }
  },
  {
   "cell_type": "code",
   "execution_count": 55,
   "outputs": [
    {
     "name": "stdout",
     "output_type": "stream",
     "text": [
      "[[0 0 0 0 0 0 0 0]\n",
      " [1 0 1 0 1 0 1 0]\n",
      " [0 0 0 0 0 0 0 0]\n",
      " [1 0 1 0 1 0 1 0]\n",
      " [0 0 0 0 0 0 0 0]\n",
      " [1 0 1 0 1 0 1 0]\n",
      " [0 0 0 0 0 0 0 0]\n",
      " [1 0 1 0 1 0 1 0]]\n"
     ]
    }
   ],
   "source": [
    "#19. 创建一个8x8 的矩阵，并且设置成棋盘样式 (★☆☆)\n",
    "#(提示: array[::2])\n",
    "X=np.zeros((8,8),dtype=int)\n",
    "X[1::2,::2]=1\n",
    "X[::2,1::2]=1\n",
    "print(X)\n",
    "# Z = np.zeros((8,8),dtype=int)\n",
    "# Z[1::2,::2] = 1\n",
    "# Z[::2,1::2] = 1\n",
    "# print(Z)"
   ],
   "metadata": {
    "collapsed": false,
    "pycharm": {
     "name": "#%%\n"
    }
   }
  },
  {
   "cell_type": "code",
   "execution_count": 59,
   "outputs": [
    {
     "name": "stdout",
     "output_type": "stream",
     "text": [
      "(1, 5, 4)\n"
     ]
    }
   ],
   "source": [
    "#20. 考虑一个 (6,7,8) 形状的数组，其第100个元素的索引(x,y,z)是什么?\n",
    "#(提示: np.unravel_index)\n",
    "print(np.unravel_index(100,(6,7,8)))\n",
    "# print(np.unravel_index(100,(6,7,8)))\n"
   ],
   "metadata": {
    "collapsed": false,
    "pycharm": {
     "name": "#%%\n"
    }
   }
  },
  {
   "cell_type": "code",
   "execution_count": 66,
   "outputs": [
    {
     "name": "stdout",
     "output_type": "stream",
     "text": [
      "[[0 1 0 1 0 1 0 1]\n",
      " [1 0 1 0 1 0 1 0]\n",
      " [0 1 0 1 0 1 0 1]\n",
      " [1 0 1 0 1 0 1 0]\n",
      " [0 1 0 1 0 1 0 1]\n",
      " [1 0 1 0 1 0 1 0]\n",
      " [0 1 0 1 0 1 0 1]\n",
      " [1 0 1 0 1 0 1 0]]\n"
     ]
    }
   ],
   "source": [
    "#21. 用tile函数去创建一个 8x8的棋盘样式矩阵(★☆☆)\n",
    "#(提示: np.tile)\n",
    "X=np.tile(np.array([[0,1],[1,0]]),(4,4))\n",
    "print(X)\n",
    "# Z = np.tile( np.array([[0,1],[1,0]]), (4,4))\n",
    "# print(Z)"
   ],
   "metadata": {
    "collapsed": false,
    "pycharm": {
     "name": "#%%\n"
    }
   }
  },
  {
   "cell_type": "code",
   "execution_count": 67,
   "outputs": [
    {
     "name": "stdout",
     "output_type": "stream",
     "text": [
      "[[0.58741383 0.09071662 0.45454142 0.90908557 0.66645254]\n",
      " [1.         0.06455738 0.55930638 0.7559328  0.81415774]\n",
      " [0.36573779 0.13397646 0.17003751 0.60544403 0.95532719]\n",
      " [0.94754723 0.20348456 0.60278356 0.68323098 0.39759037]\n",
      " [0.08945437 0.         0.89814154 0.25891825 0.27673507]]\n"
     ]
    }
   ],
   "source": [
    "#22. 对一个5x5的随机矩阵做归一化(★☆☆)\n",
    "#(提示: (x - min) / (max - min))\n",
    "X=np.random.random((5,5))\n",
    "Xmax=X.max()\n",
    "Xmin=X.min()\n",
    "X=(X-Xmin)/(Xmax-Xmin)\n",
    "print(X)\n",
    "# Z = np.random.random((5,5))\n",
    "# Zmax, Zmin = Z.max(), Z.min()\n",
    "# Z = (Z - Zmin)/(Zmax - Zmin)\n",
    "# print(Z)"
   ],
   "metadata": {
    "collapsed": false,
    "pycharm": {
     "name": "#%%\n"
    }
   }
  },
  {
   "cell_type": "code",
   "execution_count": 70,
   "outputs": [
    {
     "name": "stderr",
     "output_type": "stream",
     "text": [
      "C:\\Users\\杯杯\\AppData\\Local\\Temp\\ipykernel_278668\\2393554773.py:3: FutureWarning: Passing (type, 1) or '1type' as a synonym of type is deprecated; in a future version of numpy, it will be understood as (type, (1,)) / '(1,)type'.\n",
      "  color=np.dtype([(\"r\",np.ubyte,1),(\"g\",np.ubyte,1),(\"b\",np.ubyte,1),(\"a\",np.ubyte,1)])\n"
     ]
    },
    {
     "data": {
      "text/plain": "dtype([('r', 'u1'), ('g', 'u1'), ('b', 'u1'), ('a', 'u1')])"
     },
     "execution_count": 70,
     "metadata": {},
     "output_type": "execute_result"
    }
   ],
   "source": [
    "#23. 创建一个将颜色描述为(RGBA)四个无符号字节的自定义dtype？(★☆☆)\n",
    "#(提示: np.dtype)\n",
    "color=np.dtype([(\"r\",np.ubyte,1),(\"g\",np.ubyte,1),(\"b\",np.ubyte,1),(\"a\",np.ubyte,1)])\n",
    "color\n",
    "\n",
    "# color = np.dtype([(\"r\", np.ubyte, 1),\n",
    "#                   (\"g\", np.ubyte, 1),\n",
    "#                   (\"b\", np.ubyte, 1),\n",
    "#                   (\"a\", np.ubyte, 1)])\n",
    "# color"
   ],
   "metadata": {
    "collapsed": false,
    "pycharm": {
     "name": "#%%\n"
    }
   }
  },
  {
   "cell_type": "code",
   "execution_count": 73,
   "outputs": [
    {
     "name": "stdout",
     "output_type": "stream",
     "text": [
      "[[3. 3.]\n",
      " [3. 3.]\n",
      " [3. 3.]\n",
      " [3. 3.]\n",
      " [3. 3.]]\n"
     ]
    }
   ],
   "source": [
    "#24. 一个5x3的矩阵与一个3x2的矩阵相乘，实矩阵乘积是什么？ (★☆☆)\n",
    "#(提示: np.dot | @)\n",
    "X=np.dot(np.ones((5,3)),np.ones((3,2)))\n",
    "print(X)\n",
    "# Z = np.dot(np.ones((5,3)), np.ones((3,2)))\n",
    "# print(Z)"
   ],
   "metadata": {
    "collapsed": false,
    "pycharm": {
     "name": "#%%\n"
    }
   }
  },
  {
   "cell_type": "code",
   "execution_count": 77,
   "outputs": [
    {
     "name": "stdout",
     "output_type": "stream",
     "text": [
      "[ 0  1  2 -3 -4 -5 -6 -7 -8  9 10]\n"
     ]
    }
   ],
   "source": [
    "#25. 给定一个一维数组，对其在3到8之间的所有元素取反 (★☆☆)\n",
    "#(提示: >, <=)\n",
    "X=np.arange(11)\n",
    "X[(3<=X)&(X<=8)] *=-1\n",
    "print(X)\n",
    "# Z = np.arange(11)\n",
    "# Z[(3 < Z) & (Z <= 8)] *= -1\n",
    "# print(Z)"
   ],
   "metadata": {
    "collapsed": false,
    "pycharm": {
     "name": "#%%\n"
    }
   }
  },
  {
   "cell_type": "code",
   "execution_count": 84,
   "outputs": [
    {
     "name": "stdout",
     "output_type": "stream",
     "text": [
      "10\n",
      "10\n"
     ]
    }
   ],
   "source": [
    "#26. 下面脚本运行后的结果是什么? (★☆☆)\n",
    "#(提示: np.sum)\n",
    "print(sum(range(5),-1))\n",
    "from numpy import *\n",
    "print(sum(range(5),-1))\n",
    "# print(sum(range(5),-1))\n",
    "# from numpy import *\n",
    "# print(sum(range(5),-1))\n"
   ],
   "metadata": {
    "collapsed": false,
    "pycharm": {
     "name": "#%%\n"
    }
   }
  },
  {
   "cell_type": "code",
   "execution_count": 85,
   "outputs": [
    {
     "data": {
      "text/plain": "array([False, False, False, False, False])"
     },
     "execution_count": 85,
     "metadata": {},
     "output_type": "execute_result"
    }
   ],
   "source": [
    "X = np.arange(5)\n",
    "X**X\n",
    "X<-X\n",
    "# Z = np.arange(5)\n",
    "# Z ** Z  # legal\n",
    "# Z = np.arange(5)\n",
    "# 2 << Z >> 2  # false\n",
    "# Z = np.arange(5)\n",
    "# Z <- Z   # legal\n",
    "# Z = np.arange(5)\n",
    "# 1j*Z   # legal\n",
    "# Z = np.arange(5)\n",
    "# Z/1/1   # legal\n",
    "# Z = np.arange(5)\n",
    "# Z<Z>Z    # false"
   ],
   "metadata": {
    "collapsed": false,
    "pycharm": {
     "name": "#%%27. 考虑一个整数向量Z,下列表达合法的是哪个? (★☆☆)\n"
    }
   }
  },
  {
   "cell_type": "code",
   "execution_count": 86,
   "outputs": [
    {
     "name": "stderr",
     "output_type": "stream",
     "text": [
      "C:\\Users\\杯杯\\AppData\\Local\\Temp\\ipykernel_278668\\2254572550.py:2: RuntimeWarning: invalid value encountered in true_divide\n",
      "  np.array(0) / np.array(0)\n",
      "C:\\Users\\杯杯\\AppData\\Local\\Temp\\ipykernel_278668\\2254572550.py:3: RuntimeWarning: divide by zero encountered in floor_divide\n",
      "  np.array(0) // np.array(0)\n"
     ]
    },
    {
     "data": {
      "text/plain": "array([-2.14748365e+09])"
     },
     "execution_count": 86,
     "metadata": {},
     "output_type": "execute_result"
    }
   ],
   "source": [
    "#28. 下列表达式的结果分别是什么?(★☆☆)\n",
    "np.array(0) / np.array(0)\n",
    "np.array(0) // np.array(0)\n",
    "np.array([np.nan]).astype(int).astype(float)\n",
    "# print(np.array(0) / np.array(0))\n",
    "# print(np.array(0) // np.array(0))\n",
    "# print(np.array([np.nan]).astype(int).astype(float))\n"
   ],
   "metadata": {
    "collapsed": false,
    "pycharm": {
     "name": "#%%\n"
    }
   }
  },
  {
   "cell_type": "code",
   "execution_count": 89,
   "outputs": [
    {
     "name": "stdout",
     "output_type": "stream",
     "text": [
      "[-9.  9. -5.  9.  4.  1. -4. -8. -3. -2.]\n"
     ]
    }
   ],
   "source": [
    "#29. 如何从零位对浮点数组做舍入 ? (★☆☆)\n",
    "#(提示: np.uniform, np.copysign, np.ceil, np.abs)\n",
    "X=np.random.uniform(-10,10,10)\n",
    "print(np.copysign(np.ceil(np.abs(X)),X))\n",
    "# Z = np.random.uniform(-10,+10,10)\n",
    "# print (np.copysign(np.ceil(np.abs(Z)), Z))\n"
   ],
   "metadata": {
    "collapsed": false,
    "pycharm": {
     "name": "#%%\n"
    }
   }
  },
  {
   "cell_type": "code",
   "execution_count": 91,
   "outputs": [
    {
     "name": "stdout",
     "output_type": "stream",
     "text": [
      "[6 5 1 5 3 5 6 5 8 8] [2 1 9 7 7 4 5 0 1 7]\n",
      "[1 5]\n"
     ]
    }
   ],
   "source": [
    "#30. 如何找到两个数组中的共同元素? (★☆☆)\n",
    "#(提示: np.intersect1d)\n",
    "X1=np.random.randint(0,10,10)\n",
    "X2=np.random.randint(0,10,10)\n",
    "print(X1,X2)\n",
    "print(np.intersect1d(X1,X2))\n",
    "# Z1 = np.random.randint(0,10,10)\n",
    "# Z2 = np.random.randint(0,10,10)\n",
    "# print(np.intersect1d(Z1,Z2))"
   ],
   "metadata": {
    "collapsed": false,
    "pycharm": {
     "name": "#%%\n"
    }
   }
  },
  {
   "cell_type": "code",
   "execution_count": 98,
   "outputs": [],
   "source": [
    "#31. 如何忽略所有的 numpy 警告(尽管不建议这么做)? (★☆☆)\n",
    "#(提示: np.seterr, np.errstate)\n",
    "\n",
    "# Suicide mode on\n",
    "defaults = np.seterr(all=\"ignore\")\n",
    "Z = np.ones(1) / 0\n",
    "\n",
    "# Back to sanity\n",
    "_ = np.seterr(**defaults)\n",
    "\n",
    "#An equivalent way, with a context manager:\n",
    "\n",
    "with np.errstate(divide='ignore'):\n",
    "    Z = np.ones(1) / 0\n",
    "print(np.ones(1) / 0)"
   ],
   "metadata": {
    "collapsed": false,
    "pycharm": {
     "name": "#%%\n"
    }
   }
  },
  {
   "cell_type": "code",
   "execution_count": null,
   "outputs": [],
   "source": [
    "#32. 下面的表达式是正确的吗? (★☆☆)\n",
    "#(提示: imaginary number)\n",
    "np.sqrt(-1) == np.emath.sqrt(-1)\n",
    "# np.sqrt(-1) == np.emath.sqrt(-1)  # False\n",
    "#emath(complex number)\n"
   ],
   "metadata": {
    "collapsed": false,
    "pycharm": {
     "name": "#%%\n"
    }
   }
  },
  {
   "cell_type": "code",
   "execution_count": 99,
   "outputs": [
    {
     "name": "stdout",
     "output_type": "stream",
     "text": [
      "Yesterday is 2022-01-15\n",
      "Today is 2022-01-16\n",
      "Tomorrow is 2022-01-17\n"
     ]
    }
   ],
   "source": [
    "#33. 如何得到昨天，今天，明天的日期? (★☆☆)\n",
    "#(提示: np.datetime64, np.timedelta64)\n",
    "\n",
    "yesterday = np.datetime64('today', 'D') - np.timedelta64(1, 'D')\n",
    "today     = np.datetime64('today', 'D')\n",
    "tomorrow  = np.datetime64('today', 'D') + np.timedelta64(1, 'D')\n",
    "print (\"Yesterday is \" + str(yesterday))\n",
    "print (\"Today is \" + str(today))\n",
    "print (\"Tomorrow is \"+ str(tomorrow))"
   ],
   "metadata": {
    "collapsed": false,
    "pycharm": {
     "name": "#%%\n"
    }
   }
  },
  {
   "cell_type": "code",
   "execution_count": 100,
   "outputs": [
    {
     "name": "stdout",
     "output_type": "stream",
     "text": [
      "['2016-07-01' '2016-07-02' '2016-07-03' '2016-07-04' '2016-07-05'\n",
      " '2016-07-06' '2016-07-07' '2016-07-08' '2016-07-09' '2016-07-10'\n",
      " '2016-07-11' '2016-07-12' '2016-07-13' '2016-07-14' '2016-07-15'\n",
      " '2016-07-16' '2016-07-17' '2016-07-18' '2016-07-19' '2016-07-20'\n",
      " '2016-07-21' '2016-07-22' '2016-07-23' '2016-07-24' '2016-07-25'\n",
      " '2016-07-26' '2016-07-27' '2016-07-28' '2016-07-29' '2016-07-30'\n",
      " '2016-07-31']\n"
     ]
    }
   ],
   "source": [
    "#34. 如何得到所有与2016年7月对应的日期？ (★★☆)\n",
    "#(提示: np.arange(dtype=datetime64['D']))\n",
    "X=np.arange('2016-07','2016-08',dtype='datetime64[D]')\n",
    "print(X)\n",
    "# Z = np.arange('2016-07', '2016-08', dtype='datetime64[D]')\n",
    "# print(Z)"
   ],
   "metadata": {
    "collapsed": false,
    "pycharm": {
     "name": "#%%\n"
    }
   }
  },
  {
   "cell_type": "code",
   "execution_count": 101,
   "outputs": [
    {
     "data": {
      "text/plain": "array([-1.5, -1.5, -1.5])"
     },
     "execution_count": 101,
     "metadata": {},
     "output_type": "execute_result"
    }
   ],
   "source": [
    "#35. 如何直接在位计算(A+B)\\*(-A/2)(不建立副本)? (★★☆)\n",
    "#(提示: np.add(out=), np.negative(out=), np.multiply(out=), np.divide(out=))\n",
    "\n",
    "A = np.ones(3)*1\n",
    "B = np.ones(3)*2\n",
    "C = np.ones(3)*3\n",
    "print(np.add(A,B,out=B))\n",
    "np.divide(A,2,out=A)\n",
    "np.negative(A,out=A)\n",
    "np.multiply(A,B,out=A)\n",
    "##out is place store\n"
   ],
   "metadata": {
    "collapsed": false,
    "pycharm": {
     "name": "#%%\n"
    }
   }
  },
  {
   "cell_type": "code",
   "execution_count": 102,
   "outputs": [
    {
     "name": "stdout",
     "output_type": "stream",
     "text": [
      "[7. 7. 0. 5. 7. 3. 9. 5. 5. 0.]\n",
      "[7. 7. 0. 5. 7. 3. 9. 5. 5. 0.]\n",
      "[7. 7. 0. 5. 7. 3. 9. 5. 5. 0.]\n",
      "[7 7 0 5 7 3 9 5 5 0]\n",
      "[7. 7. 0. 5. 7. 3. 9. 5. 5. 0.]\n"
     ]
    }
   ],
   "source": [
    "#36. 用五种不同的方法去提取一个随机数组的整数部分(★★☆)\n",
    "#(提示: %, np.floor, np.ceil, astype, np.trunc)\n",
    "\n",
    "Z = np.random.uniform(0,10,10)\n",
    "\n",
    "print (Z - Z%1)\n",
    "print (np.floor(Z))\n",
    "print (np.ceil(Z)-1)\n",
    "print (Z.astype(int))\n",
    "print (np.trunc(Z))"
   ],
   "metadata": {
    "collapsed": false,
    "pycharm": {
     "name": "#%%\n"
    }
   }
  },
  {
   "cell_type": "code",
   "execution_count": 103,
   "outputs": [
    {
     "name": "stdout",
     "output_type": "stream",
     "text": [
      "[[0. 1. 2. 3. 4.]\n",
      " [0. 1. 2. 3. 4.]\n",
      " [0. 1. 2. 3. 4.]\n",
      " [0. 1. 2. 3. 4.]\n",
      " [0. 1. 2. 3. 4.]]\n"
     ]
    }
   ],
   "source": [
    "#37. 创建一个5x5的矩阵，其中每行的数值范围从0到4 (★★☆)\n",
    "#(提示: np.arange)\n",
    "\n",
    "X=np.zeros((5,5))\n",
    "X+= np.arange(5)\n",
    "print(X)\n",
    "# Z = np.zeros((5,5))\n",
    "# Z += np.arange(5)\n",
    "# print (Z)"
   ],
   "metadata": {
    "collapsed": false,
    "pycharm": {
     "name": "#%%\n"
    }
   }
  },
  {
   "cell_type": "code",
   "execution_count": 105,
   "outputs": [
    {
     "name": "stdout",
     "output_type": "stream",
     "text": [
      "[0. 1. 2. 3. 4. 5. 6. 7. 8. 9.]\n"
     ]
    }
   ],
   "source": [
    "#38. 通过考虑一个可生成10个整数的函数，来构建一个数组(★☆☆)\n",
    "#(提示: np.fromiter)\n",
    "def generate():\n",
    "    for x in range(10):\n",
    "        yield x\n",
    "Z=np.fromiter(generate(),dtype=float,count=-1)\n",
    "print(Z)\n",
    "# def generate():\n",
    "#     for x in range(10):\n",
    "#         yield x\n",
    "# Z = np.fromiter(generate(),dtype=float,count=-1)\n",
    "# print (Z)"
   ],
   "metadata": {
    "collapsed": false,
    "pycharm": {
     "name": "#%%\n"
    }
   }
  },
  {
   "cell_type": "code",
   "execution_count": 108,
   "outputs": [
    {
     "name": "stdout",
     "output_type": "stream",
     "text": [
      "[0.         0.09090909 0.18181818 0.27272727 0.36363636 0.45454545\n",
      " 0.54545455 0.63636364 0.72727273 0.81818182 0.90909091]\n"
     ]
    }
   ],
   "source": [
    "#39. 创建一个长度为10的随机向量，其值域范围从0到1，但是不包括0和1 (★★☆)\n",
    "#(提示: np.linspace)\n",
    "X=np.linspace(0,1,11,endpoint=False)[1:]\n",
    "print(X)\n",
    "# Z = np.linspace(0,1,11,endpoint=False)[1:]\n",
    "# print (Z)"
   ],
   "metadata": {
    "collapsed": false,
    "pycharm": {
     "name": "#%%\n"
    }
   }
  },
  {
   "cell_type": "code",
   "execution_count": 110,
   "outputs": [
    {
     "name": "stdout",
     "output_type": "stream",
     "text": [
      "[0.32292185 0.34210127 0.51119719 0.52200241 0.52520137 0.68285837\n",
      " 0.73580301 0.81232781 0.84977445 0.88201065]\n"
     ]
    }
   ],
   "source": [
    "#40. 创建一个长度为10的随机向量，并将其排序 (★★☆)\n",
    "#(提示: sort)\n",
    "X=np.random.random(10)\n",
    "X.sort()\n",
    "print(X)\n",
    "# Z = np.random.random(10)\n",
    "# Z.sort()\n",
    "# print (Z)"
   ],
   "metadata": {
    "collapsed": false,
    "pycharm": {
     "name": "#%%\n"
    }
   }
  },
  {
   "cell_type": "code",
   "execution_count": 111,
   "outputs": [
    {
     "data": {
      "text/plain": "45"
     },
     "execution_count": 111,
     "metadata": {},
     "output_type": "execute_result"
    }
   ],
   "source": [
    "#41.对于一个小数组，如何用比 np.sum更快的方式对其求和？(★★☆)\n",
    "#(提示: np.add.reduce)\n",
    "X=np.arange(10)\n",
    "np.add.reduce(X)\n",
    "# Z = np.arange(10)\n",
    "# np.add.reduce(Z)"
   ],
   "metadata": {
    "collapsed": false,
    "pycharm": {
     "name": "#%%\n"
    }
   }
  },
  {
   "cell_type": "code",
   "execution_count": 113,
   "outputs": [
    {
     "name": "stdout",
     "output_type": "stream",
     "text": [
      "<ufunc 'equal'>\n",
      "False\n"
     ]
    }
   ],
   "source": [
    "#42. 对于两个随机数组A和B，检查它们是否相等(★★☆)\n",
    "#(提示: np.allclose, np.array_equal)\n",
    "\n",
    "A=np.random.randint(0,2,5)\n",
    "B=np.random.randint(0,2,5)\n",
    "print(np.allclose(A,B))\n",
    "print(np.array_equal(A,B))\n",
    "# A = np.random.randint(0,2,5)\n",
    "# B = np.random.randint(0,2,5)\n",
    "# # Assuming identical shape of the arrays and a tolerance for the comparison of values\n",
    "# equal = np.allclose(A,B)\n",
    "# print(equal)\n",
    "# # 方法2\n",
    "# # Checking both the shape and the element values, no tolerance (values have to be exactly equal)\n",
    "# equal = np.array_equal(A,B)\n",
    "# print(equal)"
   ],
   "metadata": {
    "collapsed": false,
    "pycharm": {
     "name": "#%%\n"
    }
   }
  },
  {
   "cell_type": "code",
   "execution_count": 117,
   "outputs": [
    {
     "name": "stdout",
     "output_type": "stream",
     "text": [
      "[0. 0. 0. 0. 0. 0. 0. 0. 0. 0.]\n"
     ]
    }
   ],
   "source": [
    "#43. 创建一个只读数组(read-only) (★★☆)\n",
    "#(提示: flags.writeable)\n",
    "\n",
    "# 使用如下过程实现\n",
    "Z = np.zeros(10)\n",
    "Z.flags.writeable = False\n",
    "print(Z)\n",
    "#---------------------------------------------------------------------------"
   ],
   "metadata": {
    "collapsed": false,
    "pycharm": {
     "name": "#%%\n"
    }
   }
  },
  {
   "cell_type": "code",
   "execution_count": 126,
   "outputs": [
    {
     "name": "stdout",
     "output_type": "stream",
     "text": [
      "[1.07312869 1.00662873 0.93945488 0.60987488 0.32072531 0.88638917\n",
      " 0.42746803 0.47394981 0.78358223 1.20587417] [0.72959803 0.56428375 0.68199826 0.03576171 0.30974751 0.09178463\n",
      " 0.28587496 0.00917106 0.5070623  0.71999821]\n"
     ]
    }
   ],
   "source": [
    "#44. 将笛卡尔坐标下的一个10x2的矩阵转换为极坐标形式(★★☆)\n",
    "#(hint: np.sqrt, np.arctan2)\n",
    "X=np.random.random((10,2))\n",
    "X1=X[:,0]\n",
    "X2=X[:,1]\n",
    "R=np.sqrt(X1**2+X2**2)\n",
    "T=np.arctan(X1,X2)\n",
    "print(R,T)\n",
    "# Z = np.random.random((10,2))\n",
    "# X,Y = Z[:,0], Z[:,1]\n",
    "# R = np.sqrt(X**2+Y**2)\n",
    "# T = np.arctan2(Y,X)\n",
    "# print (R)\n",
    "# print (T)"
   ],
   "metadata": {
    "collapsed": false,
    "pycharm": {
     "name": "#%%\n"
    }
   }
  },
  {
   "cell_type": "code",
   "execution_count": 127,
   "outputs": [
    {
     "name": "stdout",
     "output_type": "stream",
     "text": [
      "[0.0148139  0.57273829 0.90701949 0.33591475 0.43788345 0.56690034\n",
      " 0.52424368 0.66948619 0.         0.12154502]\n"
     ]
    }
   ],
   "source": [
    "#45. 创建一个长度为10的向量，并将向量中最大值替换为1 (★★☆)\n",
    "#(提示: argmax)\n",
    "X=np.random.random(10)\n",
    "X[X.argmax()]=0\n",
    "print(X)\n",
    "# Z = np.random.random(10)\n",
    "# Z[Z.argmax()] = 0\n",
    "# print (Z)"
   ],
   "metadata": {
    "collapsed": false,
    "pycharm": {
     "name": "#%%\n"
    }
   }
  },
  {
   "cell_type": "code",
   "execution_count": null,
   "outputs": [],
   "source": [
    "#46. 创建一个结构化数组，并实现 x 和 y 坐标覆盖 [0,1]x[0,1] 区域 (★★☆)\n",
    "#(提示: np.meshgrid)\n",
    "\n",
    "Z = np.zeros((5,5), [('x',float),('y',float)])\n",
    "Z['x'], Z['y'] = np.meshgrid(np.linspace(0,1,5), np.linspace(0,1,5))\n",
    "print(Z)\n"
   ],
   "metadata": {
    "collapsed": false,
    "pycharm": {
     "name": "#%%\n"
    }
   }
  },
  {
   "cell_type": "code",
   "execution_count": 131,
   "outputs": [
    {
     "name": "stdout",
     "output_type": "stream",
     "text": [
      "[[-2.         -0.66666667 -0.4        -0.28571429 -0.22222222 -0.18181818\n",
      "  -0.15384615 -0.13333333]\n",
      " [ 2.         -2.         -0.66666667 -0.4        -0.28571429 -0.22222222\n",
      "  -0.18181818 -0.15384615]\n",
      " [ 0.66666667  2.         -2.         -0.66666667 -0.4        -0.28571429\n",
      "  -0.22222222 -0.18181818]\n",
      " [ 0.4         0.66666667  2.         -2.         -0.66666667 -0.4\n",
      "  -0.28571429 -0.22222222]\n",
      " [ 0.28571429  0.4         0.66666667  2.         -2.         -0.66666667\n",
      "  -0.4        -0.28571429]\n",
      " [ 0.22222222  0.28571429  0.4         0.66666667  2.         -2.\n",
      "  -0.66666667 -0.4       ]\n",
      " [ 0.18181818  0.22222222  0.28571429  0.4         0.66666667  2.\n",
      "  -2.         -0.66666667]\n",
      " [ 0.15384615  0.18181818  0.22222222  0.28571429  0.4         0.66666667\n",
      "   2.         -2.        ]]\n",
      "3638.163637117973\n"
     ]
    }
   ],
   "source": [
    "#47. 给定两个数组X和Y，构造Cauchy矩阵C (Cij =1/(xi - yj))\n",
    "#(提示: np.subtract.outer)\n",
    "X=arange(8)\n",
    "Y=X+0.5\n",
    "C=1/np.subtract.outer(X,Y)\n",
    "print(C)\n",
    "print(np.linalg.det(C))\n",
    "# X = np.arange(8)\n",
    "# Y = X + 0.5\n",
    "# C = 1.0 / np.subtract.outer(X, Y)\n",
    "# print(np.linalg.det(C))\n"
   ],
   "metadata": {
    "collapsed": false,
    "pycharm": {
     "name": "#%%\n"
    }
   }
  },
  {
   "cell_type": "code",
   "execution_count": 132,
   "outputs": [
    {
     "name": "stdout",
     "output_type": "stream",
     "text": [
      "-128\n",
      "127\n",
      "-2147483648\n",
      "2147483647\n",
      "-9223372036854775808\n",
      "9223372036854775807\n"
     ]
    }
   ],
   "source": [
    "#48. 打印每个numpy标量类型的最小值和最大值？ (★★☆)\n",
    "#(提示: np.iinfo, np.finfo, eps)\n",
    "for dtype in [np.int8,np.int32, np.int64]:\n",
    "    print(np.iinfo(dtype).min)\n",
    "    print(np.iinfo(dtype).max)\n",
    "\n",
    "\n",
    "# for dtype in [np.int8, np.int32, np.int64]:\n",
    "#     print(np.iinfo(dtype).min)\n",
    "#     print(np.iinfo(dtype).max)\n",
    "\n",
    "# for dtype in [np.float32, np.float64]:\n",
    "#     print(np.finfo(dtype).min)\n",
    "#     print(np.finfo(dtype).max)\n",
    "#     print(np.finfo(dtype).eps)"
   ],
   "metadata": {
    "collapsed": false,
    "pycharm": {
     "name": "#%%\n"
    }
   }
  },
  {
   "cell_type": "code",
   "execution_count": 134,
   "outputs": [
    {
     "name": "stdout",
     "output_type": "stream",
     "text": [
      "[[0. 0. 0. 0. 0. 0. 0. 0. 0. 0. 0. 0. 0. 0. 0. 0.]\n",
      " [0. 0. 0. 0. 0. 0. 0. 0. 0. 0. 0. 0. 0. 0. 0. 0.]\n",
      " [0. 0. 0. 0. 0. 0. 0. 0. 0. 0. 0. 0. 0. 0. 0. 0.]\n",
      " [0. 0. 0. 0. 0. 0. 0. 0. 0. 0. 0. 0. 0. 0. 0. 0.]\n",
      " [0. 0. 0. 0. 0. 0. 0. 0. 0. 0. 0. 0. 0. 0. 0. 0.]\n",
      " [0. 0. 0. 0. 0. 0. 0. 0. 0. 0. 0. 0. 0. 0. 0. 0.]\n",
      " [0. 0. 0. 0. 0. 0. 0. 0. 0. 0. 0. 0. 0. 0. 0. 0.]\n",
      " [0. 0. 0. 0. 0. 0. 0. 0. 0. 0. 0. 0. 0. 0. 0. 0.]\n",
      " [0. 0. 0. 0. 0. 0. 0. 0. 0. 0. 0. 0. 0. 0. 0. 0.]\n",
      " [0. 0. 0. 0. 0. 0. 0. 0. 0. 0. 0. 0. 0. 0. 0. 0.]\n",
      " [0. 0. 0. 0. 0. 0. 0. 0. 0. 0. 0. 0. 0. 0. 0. 0.]\n",
      " [0. 0. 0. 0. 0. 0. 0. 0. 0. 0. 0. 0. 0. 0. 0. 0.]\n",
      " [0. 0. 0. 0. 0. 0. 0. 0. 0. 0. 0. 0. 0. 0. 0. 0.]\n",
      " [0. 0. 0. 0. 0. 0. 0. 0. 0. 0. 0. 0. 0. 0. 0. 0.]\n",
      " [0. 0. 0. 0. 0. 0. 0. 0. 0. 0. 0. 0. 0. 0. 0. 0.]\n",
      " [0. 0. 0. 0. 0. 0. 0. 0. 0. 0. 0. 0. 0. 0. 0. 0.]]\n"
     ]
    }
   ],
   "source": [
    "#49. 如何打印一个数组中的所有数值? (★★☆)\n",
    "#(提示: np.set_printoptions)\n",
    "X=np.zeros((16,16))\n",
    "print(X)\n",
    "# np.set_printoptions(threshold=np.nan)\n",
    "# Z = np.zeros((16,16))\n",
    "# print (Z)"
   ],
   "metadata": {
    "collapsed": false,
    "pycharm": {
     "name": "#%%\n"
    }
   }
  },
  {
   "cell_type": "code",
   "execution_count": null,
   "outputs": [],
   "source": [
    "#50. 给定标量时，如何找到数组中最接近标量的值？(★★☆)\n",
    "#(提示: argmin)\n",
    "\n",
    "# Z = np.arange(100)\n",
    "# v = np.random.uniform(0,100)\n",
    "# index = (np.abs(Z-v)).argmin()\n",
    "# print (Z[index])\n",
    "51. 创建一个表示位置(x,y)和颜色(r,g,b)的结构化数组(★★☆)\n",
    "(提示: dtype)\n",
    "\n",
    "# Z = np.zeros(10, [ ('position', [ ('x', float, 1),\n",
    "#                                   ('y', float, 1)]),\n",
    "#                    ('color',    [ ('r', float, 1),\n",
    "#                                   ('g', float, 1),\n",
    "#                                   ('b', float, 1)])])\n",
    "# print (Z)\n",
    "52. 对一个表示坐标形状为(100,2)的随机向量，找到点与点的距离(★★☆)\n",
    "(提示: np.atleast_2d, T, np.sqrt)\n",
    "\n",
    "# Z = np.random.random((10,2))\n",
    "# X,Y = np.atleast_2d(Z[:,0], Z[:,1])\n",
    "# D = np.sqrt( (X-X.T)**2 + (Y-Y.T)**2)\n",
    "# print (D)\n",
    "# # 方法2\n",
    "# # Much faster with scipy\n",
    "# import scipy\n",
    "# # Thanks Gavin Heverly-Coulson (#issue 1)\n",
    "# import scipy.spatial\n",
    "# D = scipy.spatial.distance.cdist(Z,Z)\n",
    "# print (D)\n",
    "53. 如何将32位的浮点数(float)转换为对应的整数(integer)?\n",
    "(提示: astype(copy=False))\n",
    "\n",
    "# Z = np.arange(10, dtype=np.int32)\n",
    "# Z = Z.astype(np.float32, copy=False)\n",
    "# print (Z)\n",
    "54. 如何读取以下文件? (★★☆)\n",
    "(提示: np.genfromtxt)\n",
    "\n",
    "1, 2, 3, 4, 5\n",
    "6,  ,  , 7, 8\n",
    " ,  , 9,10,11\n",
    "参考链接\n",
    "\n",
    "55. 对于numpy数组，enumerate的等价操作是什么？(★★☆)\n",
    "(提示: np.ndenumerate, np.ndindex)\n",
    "\n",
    "# Z = np.arange(9).reshape(3,3)\n",
    "# for index, value in np.ndenumerate(Z):\n",
    "#     print (index, value)\n",
    "# for index in np.ndindex(Z.shape):\n",
    "#     print (index, Z[index])\n",
    "56. 生成一个通用的二维Gaussian-like数组 (★★☆)\n",
    "(提示: np.meshgrid, np.exp)\n",
    "\n",
    "# X, Y = np.meshgrid(np.linspace(-1,1,10), np.linspace(-1,1,10))\n",
    "# D = np.sqrt(X*X+Y*Y)\n",
    "# sigma, mu = 1.0, 0.0\n",
    "# G = np.exp(-( (D-mu)**2 / ( 2.0 * sigma**2 ) ) )\n",
    "# print (G)\n",
    "57. 对一个二维数组，如何在其内部随机放置p个元素? (★★☆)\n",
    "(提示: np.put, np.random.choice)\n",
    "\n",
    "# n = 10\n",
    "# p = 3\n",
    "# Z = np.zeros((n,n))\n",
    "# np.put(Z, np.random.choice(range(n*n), p, replace=False),1)\n",
    "# print (Z)\n",
    "58. 减去一个矩阵中的每一行的平均值 (★★☆)\n",
    "(提示: mean(axis=,keepdims=))\n",
    "\n",
    "# X = np.random.rand(5, 10)\n",
    "# # Recent versions of numpy\n",
    "# Y = X - X.mean(axis=1, keepdims=True)\n",
    "# print(Y)\n",
    "# # 方法2\n",
    "# # Older versions of numpy\n",
    "# Y = X - X.mean(axis=1).reshape(-1, 1)\n",
    "# print (Y)\n",
    "59. 如何通过第n列对一个数组进行排序? (★★☆)\n",
    "(提示: argsort)\n",
    "\n",
    "# Z = np.random.randint(0,10,(3,3))\n",
    "# print (Z)\n",
    "# print (Z[Z[:,1].argsort()])\n",
    "60. 如何检查一个二维数组是否有空列？(★★☆)\n",
    "(提示: any, ~)\n",
    "\n",
    "# Z = np.random.randint(0,3,(3,10))\n",
    "# print ((~Z.any(axis=0)).any())\n",
    "61. 从数组中的给定值中找出最近的值 (★★☆)\n",
    "(提示: np.abs, argmin, flat)\n",
    "\n",
    "# Z = np.random.uniform(0,1,10)\n",
    "# z = 0.5\n",
    "# m = Z.flat[np.abs(Z - z).argmin()]\n",
    "# print (m)\n",
    "62. 如何用迭代器(iterator)计算两个分别具有形状(1,3)和(3,1)的数组? (★★☆)\n",
    "(提示: np.nditer)\n",
    "\n",
    "# A = np.arange(3).reshape(3,1)\n",
    "# B = np.arange(3).reshape(1,3)\n",
    "# it = np.nditer([A,B,None])\n",
    "# for x,y,z in it:\n",
    "#     z[...] = x + y\n",
    "# print (it.operands[2])\n",
    "63. 创建一个具有name属性的数组类(★★☆)\n",
    "(提示: class方法)\n",
    "\n",
    "# class NamedArray(np.ndarray):\n",
    "#     def __new__(cls, array, name=\"no name\"):\n",
    "#         obj = np.asarray(array).view(cls)\n",
    "#         obj.name = name\n",
    "#         return obj\n",
    "#     def __array_finalize__(self, obj):\n",
    "#         if obj is None: return\n",
    "#         self.info = getattr(obj, 'name', \"no name\")\n",
    "\n",
    "# Z = NamedArray(np.arange(10), \"range_10\")\n",
    "# print (Z.name)\n",
    "64. 考虑一个给定的向量，如何对由第二个向量索引的每个元素加1(小心重复的索引)? (★★★)\n",
    "(提示: np.bincount | np.add.at)\n",
    "\n",
    "# Z = np.ones(10)\n",
    "# I = np.random.randint(0,len(Z),20)\n",
    "# Z += np.bincount(I, minlength=len(Z))\n",
    "# print(Z)\n",
    "# # 方法2\n",
    "# np.add.at(Z, I, 1)\n",
    "# print(Z)\n",
    "65. 根据索引列表(I)，如何将向量(X)的元素累加到数组(F)? (★★★)\n",
    "(提示: np.bincount)\n",
    "\n",
    "# X = [1,2,3,4,5,6]\n",
    "# I = [1,3,9,3,4,1]\n",
    "# F = np.bincount(I,X)\n",
    "# print (F)\n",
    "66. 考虑一个(dtype=ubyte) 的 (w,h,3)图像，计算其唯一颜色的数量(★★★)\n",
    "(提示: np.unique)\n",
    "\n",
    "# w,h = 16,16\n",
    "# I = np.random.randint(0,2,(h,w,3)).astype(np.ubyte)\n",
    "# #Note that we should compute 256*256 first.\n",
    "# #Otherwise numpy will only promote F.dtype to 'uint16' and overfolw will occur\n",
    "# F = I[...,0]*(256*256) + I[...,1]*256 +I[...,2]\n",
    "# n = len(np.unique(F))\n",
    "# print (n)\n",
    "67. 考虑一个四维数组，如何一次性计算出最后两个轴(axis)的和？ (★★★)\n",
    "(提示: sum(axis=(-2,-1)))\n",
    "\n",
    "# A = np.random.randint(0,10,(3,4,3,4))\n",
    "# # solution by passing a tuple of axes (introduced in numpy 1.7.0)\n",
    "# sum = A.sum(axis=(-2,-1))\n",
    "# print (sum)\n",
    "# # 方法2\n",
    "# sum = A.reshape(A.shape[:-2] + (-1,)).sum(axis=-1)\n",
    "# print (sum)\n",
    "68. 考虑一个一维向量D，如何使用相同大小的向量S来计算D子集的均值？(★★★)\n",
    "(提示: np.bincount)\n",
    "\n",
    "# D = np.random.uniform(0,1,100)\n",
    "# S = np.random.randint(0,10,100)\n",
    "# D_sums = np.bincount(S, weights=D)\n",
    "# D_counts = np.bincount(S)\n",
    "# D_means = D_sums / D_counts\n",
    "# print (D_means)\n",
    "# # 方法2\n",
    "# import pandas as pd\n",
    "# print(pd.Series(D).groupby(S).mean())\n",
    "69. 如何获得点积 dot prodcut的对角线? (★★★)\n",
    "(提示: np.diag)\n",
    "\n",
    "# A = np.random.uniform(0,1,(5,5))\n",
    "# B = np.random.uniform(0,1,(5,5))\n",
    "# # slow version\n",
    "# np.diag(np.dot(A, B))\n",
    "## 方法2\n",
    "# # Fast version\n",
    "# np.sum(A * B.T, axis=1)\n",
    "## 方法3\n",
    "# # Faster version\n",
    "# np.einsum(\"ij,ji->i\", A, B)\n",
    "70. 考虑一个向量[1,2,3,4,5],如何建立一个新的向量，在这个新向量中每个值之间有3个连续的零？(★★★)\n",
    "(提示: array[::4])\n",
    "\n",
    "# Z = np.array([1,2,3,4,5])\n",
    "# nz = 3\n",
    "# Z0 = np.zeros(len(Z) + (len(Z)-1)*(nz))\n",
    "# Z0[::nz+1] = Z\n",
    "# print (Z0)\n",
    "71. 考虑一个维度(5,5,3)的数组，如何将其与一个(5,5)的数组相乘？(★★★)\n",
    "(提示: array[:, :, None])\n",
    "\n",
    "# A = np.ones((5,5,3))\n",
    "# B = 2*np.ones((5,5))\n",
    "# print (A * B[:,:,None])\n",
    "72. 如何对一个数组中任意两行做交换? (★★★)\n",
    "(提示: array[[]] = array[[]])\n",
    "\n",
    "# A = np.arange(25).reshape(5,5)\n",
    "# A[[0,1]] = A[[1,0]]\n",
    "# print (A)\n",
    "73. 考虑一个可以描述10个三角形的triplets，找到可以分割全部三角形的line segment\n",
    "Consider a set of 10 triplets describing 10 triangles (with shared vertices), find the set of unique line segments composing all the triangles (★★★)\n",
    "(提示: repeat, np.roll, np.sort, view, np.unique)\n",
    "\n",
    "# faces = np.random.randint(0,100,(10,3))\n",
    "# F = np.roll(faces.repeat(2,axis=1),-1,axis=1)\n",
    "# F = F.reshape(len(F)*3,2)\n",
    "# F = np.sort(F,axis=1)\n",
    "# G = F.view( dtype=[('p0',F.dtype),('p1',F.dtype)] )\n",
    "# G = np.unique(G)\n",
    "# print (G)\n",
    "74. 给定一个二进制的数组C，如何产生一个数组A满足np.bincount(A)==C(★★★)\n",
    "(提示: np.repeat)\n",
    "\n",
    "# C = np.bincount([1,1,2,3,4,4,6])\n",
    "# A = np.repeat(np.arange(len(C)), C)\n",
    "# print (A)\n",
    "75. 如何通过滑动窗口计算一个数组的平均数? (★★★)\n",
    "(提示: np.cumsum)\n",
    "\n",
    "# def moving_average(a, n=3) :\n",
    "#     ret = np.cumsum(a, dtype=float)\n",
    "#     ret[n:] = ret[n:] - ret[:-n]\n",
    "#     return ret[n - 1:] / n\n",
    "# Z = np.arange(20)\n",
    "\n",
    "# print(moving_average(Z, n=3))\n",
    "76. Consider a one-dimensional array Z, build a two-dimensional array whose first row is (Z[0],Z[1],Z[2]) and each subsequent row is shifted by 1 (last row should be (Z[-3],Z[-2],Z[-1]) (★★★)\n",
    "(提示: from numpy.lib import stride_tricks)\n",
    "\n",
    "# from numpy.lib import stride_tricks\n",
    "\n",
    "# def rolling(a, window):\n",
    "#     shape = (a.size - window + 1, window)\n",
    "#     strides = (a.itemsize, a.itemsize)\n",
    "#     return stride_tricks.as_strided(a, shape=shape, strides=strides)\n",
    "# Z = rolling(np.arange(10), 3)\n",
    "\n",
    "# print (Z)\n",
    "77. 如何对布尔值取反，或者原位(in-place)改变浮点数的符号(sign)？(★★★)\n",
    "(提示: np.logical_not, np.negative)\n",
    "\n",
    "# Z = np.random.randint(0,2,100)\n",
    "# np.logical_not(Z, out=Z)\n",
    "# Z = np.random.uniform(-1.0,1.0,100)\n",
    "# np.negative(Z, out=Z)\n",
    "78. 考虑两组点集P0和P1去描述一组线(二维)和一个点p,如何计算点p到每一条线 i (P0[i],P1[i])的距离？(★★★)\n",
    "# def distance(P0, P1, p):\n",
    "#     T = P1 - P0\n",
    "#     L = (T**2).sum(axis=1)\n",
    "#     U = -((P0[:,0]-p[...,0])*T[:,0] + (P0[:,1]-p[...,1])*T[:,1]) / L\n",
    "#     U = U.reshape(len(U),1)\n",
    "#     D = P0 + U*T - p\n",
    "#     return np.sqrt((D**2).sum(axis=1))\n",
    "\n",
    "# P0 = np.random.uniform(-10,10,(10,2))\n",
    "# P1 = np.random.uniform(-10,10,(10,2))\n",
    "# p  = np.random.uniform(-10,10,( 1,2))\n",
    "\n",
    "# print (distance(P0, P1, p))\n",
    "79.考虑两组点集P0和P1去描述一组线(二维)和一组点集P，如何计算每一个点 j(P[j]) 到每一条线 i (P0[i],P1[i])的距离？(★★★)\n",
    "# # based on distance function from previous question\n",
    "# P0 = np.random.uniform(-10, 10, (10,2))\n",
    "# P1 = np.random.uniform(-10,10,(10,2))\n",
    "# p = np.random.uniform(-10, 10, (10,2))\n",
    "# print (np.array([distance(P0,P1,p_i) for p_i in p]))\n",
    "80.Consider an arbitrary array, write a function that extract a subpart with a fixed shape and centered on a given element (pad with a fill value when necessary) (★★★)\n",
    "(hint: minimum, maximum)\n",
    "\n",
    "# Z = np.random.randint(0,10,(10,10))\n",
    "# shape = (5,5)\n",
    "# fill  = 0\n",
    "# position = (1,1)\n",
    "\n",
    "# R = np.ones(shape, dtype=Z.dtype)*fill\n",
    "# P  = np.array(list(position)).astype(int)\n",
    "# Rs = np.array(list(R.shape)).astype(int)\n",
    "# Zs = np.array(list(Z.shape)).astype(int)\n",
    "\n",
    "# R_start = np.zeros((len(shape),)).astype(int)\n",
    "# R_stop  = np.array(list(shape)).astype(int)\n",
    "# Z_start = (P-Rs//2)\n",
    "# Z_stop  = (P+Rs//2)+Rs%2\n",
    "\n",
    "# R_start = (R_start - np.minimum(Z_start,0)).tolist()\n",
    "# Z_start = (np.maximum(Z_start,0)).tolist()\n",
    "# R_stop = np.maximum(R_start, (R_stop - np.maximum(Z_stop-Zs,0))).tolist()\n",
    "# Z_stop = (np.minimum(Z_stop,Zs)).tolist()\n",
    "\n",
    "# r = [slice(start,stop) for start,stop in zip(R_start,R_stop)]\n",
    "# z = [slice(start,stop) for start,stop in zip(Z_start,Z_stop)]\n",
    "# R[r] = Z[z]\n",
    "# print (Z)\n",
    "# print (R)\n",
    "81. 考虑一个数组Z = [1,2,3,4,5,6,7,8,9,10,11,12,13,14],如何生成一个数组R = [[1,2,3,4], [2,3,4,5], [3,4,5,6], ...,[11,12,13,14]]? (★★★)\n",
    "(提示: stride_tricks.as_strided)\n",
    "\n",
    "# Z = np.arange(1,15,dtype=np.uint32)\n",
    "# R = stride_tricks.as_strided(Z,(11,4),(4,4))\n",
    "# print (R)\n",
    "82. 计算一个矩阵的秩(★★★)\n",
    "(提示: np.linalg.svd)\n",
    "\n",
    "# Z = np.random.uniform(0,1,(10,10))\n",
    "# U, S, V = np.linalg.svd(Z) # Singular Value Decomposition\n",
    "# rank = np.sum(S > 1e-10)\n",
    "# print (rank)\n",
    "83. 如何找到一个数组中出现频率最高的值？\n",
    "(提示: np.bincount, argmax)\n",
    "\n",
    "# Z = np.random.randint(0,10,50)\n",
    "# print (np.bincount(Z).argmax())\n",
    "84. 从一个10x10的矩阵中提取出连续的3x3区块(★★★)\n",
    "(提示: stride_tricks.as_strided)\n",
    "\n",
    "# Z = np.random.randint(0,5,(10,10))\n",
    "# n = 3\n",
    "# i = 1 + (Z.shape[0]-3)\n",
    "# j = 1 + (Z.shape[1]-3)\n",
    "# C = stride_tricks.as_strided(Z, shape=(i, j, n, n), strides=Z.strides + Z.strides)\n",
    "# print (C)\n",
    "85. 创建一个满足 Z[i,j] == Z[j,i]的子类 (★★★)\n",
    "(提示: class 方法)\n",
    "\n",
    "# class Symetric(np.ndarray):\n",
    "#     def __setitem__(self, index, value):\n",
    "#         i,j = index\n",
    "#         super(Symetric, self).__setitem__((i,j), value)\n",
    "#         super(Symetric, self).__setitem__((j,i), value)\n",
    "\n",
    "# def symetric(Z):\n",
    "#     return np.asarray(Z + Z.T - np.diag(Z.diagonal())).view(Symetric)\n",
    "\n",
    "# S = symetric(np.random.randint(0,10,(5,5)))\n",
    "# S[2,3] = 42\n",
    "# print (S)\n",
    "86. 考虑p个 nxn 矩阵和一组形状为(n,1)的向量，如何直接计算p个矩阵的乘积(n,1)？(★★★)\n",
    "(提示: np.tensordot)\n",
    "\n",
    "# p, n = 10, 20\n",
    "# M = np.ones((p,n,n))\n",
    "# V = np.ones((p,n,1))\n",
    "# S = np.tensordot(M, V, axes=[[0, 2], [0, 1]])\n",
    "# print (S)\n",
    "# It works, because:\n",
    "# M is (p,n,n)\n",
    "# V is (p,n,1)\n",
    "# Thus, summing over the paired axes 0 and 0 (of M and V independently),\n",
    "# and 2 and 1, to remain with a (n,1) vector.\n",
    "87. 对于一个16x16的数组，如何得到一个区域(block-sum)的和(区域大小为4x4)? (★★★)\n",
    "(提示: np.add.reduceat)\n",
    "\n",
    "# Z = np.ones((16,16))\n",
    "# k = 4\n",
    "# S = np.add.reduceat(np.add.reduceat(Z, np.arange(0, Z.shape[0], k), axis=0),\n",
    "#                                        np.arange(0, Z.shape[1], k), axis=1)\n",
    "# print (S)\n",
    "88. 如何利用numpy数组实现Game of Life? (★★★)\n",
    "(提示: Game of Life)\n",
    "\n",
    "# def iterate(Z):\n",
    "#     # Count neighbours\n",
    "#     N = (Z[0:-2,0:-2] + Z[0:-2,1:-1] + Z[0:-2,2:] +\n",
    "#          Z[1:-1,0:-2]                + Z[1:-1,2:] +\n",
    "#          Z[2:  ,0:-2] + Z[2:  ,1:-1] + Z[2:  ,2:])\n",
    "\n",
    "#     # Apply rules\n",
    "#     birth = (N==3) & (Z[1:-1,1:-1]==0)\n",
    "#     survive = ((N==2) | (N==3)) & (Z[1:-1,1:-1]==1)\n",
    "#     Z[...] = 0\n",
    "#     Z[1:-1,1:-1][birth | survive] = 1\n",
    "#     return Z\n",
    "\n",
    "# Z = np.random.randint(0,2,(50,50))\n",
    "# for i in range(100): Z = iterate(Z)\n",
    "# print (Z)\n",
    "89. 如何找到一个数组的第n个最大值? (★★★)\n",
    "(提示: np.argsort | np.argpartition)\n",
    "\n",
    "# Z = np.arange(10000)\n",
    "# np.random.shuffle(Z)\n",
    "# n = 5\n",
    "\n",
    "# # Slow\n",
    "# print (Z[np.argsort(Z)[-n:]])\n",
    "# # 方法2\n",
    "# # Fast\n",
    "# print (Z[np.argpartition(-Z,n)[:n]])\n",
    "90. 给定任意个数向量，创建笛卡尔积(每一个元素的每一种组合)(★★★)\n",
    "(提示: np.indices)\n",
    "\n",
    "# def cartesian(arrays):\n",
    "#     arrays = [np.asarray(a) for a in arrays]\n",
    "#     shape = (len(x) for x in arrays)\n",
    "\n",
    "#     ix = np.indices(shape, dtype=int)\n",
    "#     ix = ix.reshape(len(arrays), -1).T\n",
    "\n",
    "#     for n, arr in enumerate(arrays):\n",
    "#         ix[:, n] = arrays[n][ix[:, n]]\n",
    "\n",
    "#     return ix\n",
    "\n",
    "# print (cartesian(([1, 2, 3], [4, 5], [6, 7])))\n",
    "91. 如何从一个正常数组创建记录数组(record array)? (★★★)\n",
    "(提示: np.core.records.fromarrays)\n",
    "\n",
    "# Z = np.array([(\"Hello\", 2.5, 3),\n",
    "#               (\"World\", 3.6, 2)])\n",
    "# R = np.core.records.fromarrays(Z.T,\n",
    "#                                names='col1, col2, col3',\n",
    "#                                formats = 'S8, f8, i8')\n",
    "# print (R)\n",
    "92. 考虑一个大向量Z, 用三种不同的方法计算它的立方(★★★)\n",
    "(提示: np.power, \\*, np.einsum)\n",
    "\n",
    "# x = np.random.rand()\n",
    "# np.power(x,3)\n",
    "## 方法2\n",
    "# x*x*x\n",
    "## 方法3\n",
    "# np.einsum('i,i,i->i',x,x,x)\n",
    "93. 考虑两个形状分别为(8,3) 和(2,2)的数组A和B. 如何在数组A中找到满足包含B中元素的行？(不考虑B中每行元素顺序)？ (★★★)\n",
    "(提示: np.where)\n",
    "\n",
    "# A = np.random.randint(0,5,(8,3))\n",
    "# B = np.random.randint(0,5,(2,2))\n",
    "\n",
    "# C = (A[..., np.newaxis, np.newaxis] == B)\n",
    "# rows = np.where(C.any((3,1)).all(1))[0]\n",
    "# print (rows)\n",
    "94. 考虑一个10x3的矩阵，分解出有不全相同值的行 (如 [2,2,3]) (★★★)\n",
    "# Z = np.random.randint(0,5,(10,3))\n",
    "# print (Z)\n",
    "\n",
    "# # solution for arrays of all dtypes (including string arrays and record arrays)\n",
    "# E = np.all(Z[:,1:] == Z[:,:-1], axis=1)\n",
    "# U = Z[~E]\n",
    "# print (U)\n",
    "# # 方法2\n",
    "# # soluiton for numerical arrays only, will work for any number of columns in Z\n",
    "# U = Z[Z.max(axis=1) != Z.min(axis=1),:]\n",
    "# print (U)\n",
    "95. 将一个整数向量转换为matrix binary的表现形式 (★★★)\n",
    "(提示: np.unpackbits)\n",
    "\n",
    "# I = np.array([0, 1, 2, 3, 15, 16, 32, 64, 128])\n",
    "# B = ((I.reshape(-1,1) & (2**np.arange(8))) != 0).astype(int)\n",
    "# print(B[:,::-1])\n",
    "# # 方法2\n",
    "# print (np.unpackbits(I[:, np.newaxis], axis=1))\n",
    "96. 给定一个二维数组，如何提取出唯一的(unique)行?(★★★)\n",
    "(提示: np.ascontiguousarray)\n",
    "\n",
    "# Z = np.random.randint(0,2,(6,3))\n",
    "# T = np.ascontiguousarray(Z).view(np.dtype((np.void, Z.dtype.itemsize * Z.shape[1])))\n",
    "# _, idx = np.unique(T, return_index=True)\n",
    "# uZ = Z[idx]\n",
    "# print (uZ)\n",
    "97. 考虑两个向量A和B，写出用einsum等式对应的inner, outer, sum, mul函数(★★★)\n",
    "(提示: np.einsum)\n",
    "\n",
    "# A = np.random.uniform(0,1,10)\n",
    "# B = np.random.uniform(0,1,10)\n",
    "# print ('sum')\n",
    "# print (np.einsum('i->', A))# np.sum(A)\n",
    "# print ('A * B')\n",
    "# print (np.einsum('i,i->i', A, B)) # A * B\n",
    "# print ('inner')\n",
    "# print (np.einsum('i,i', A, B))    # np.inner(A, B)\n",
    "# print ('outer')\n",
    "# print (np.einsum('i,j->ij', A, B))    # np.outer(A, B)\n",
    "98. 考虑一个由两个向量描述的路径(X,Y)，如何用等距样例(equidistant samples)对其进行采样(sample)? (★★★)\n",
    "Considering a path described by two vectors (X,Y), how to sample it using equidistant samples\n",
    "(提示: np.cumsum, np.interp)\n",
    "\n",
    "# phi = np.arange(0, 10*np.pi, 0.1)\n",
    "# a = 1\n",
    "# x = a*phi*np.cos(phi)\n",
    "# y = a*phi*np.sin(phi)\n",
    "\n",
    "# dr = (np.diff(x)**2 + np.diff(y)**2)**.5 # segment lengths\n",
    "# r = np.zeros_like(x)\n",
    "# r[1:] = np.cumsum(dr)                # integrate path\n",
    "# r_int = np.linspace(0, r.max(), 200) # regular spaced path\n",
    "# x_int = np.interp(r_int, r, x)       # integrate path\n",
    "# y_int = np.interp(r_int, r, y)\n",
    "99. Given an integer n and a 2D array X, select from X the rows which can be interpreted as draws from a multinomial distribution with n degrees, i.e., the rows which only contain integers and which sum to n. (★★★)\n",
    "(提示: np.logical_and.reduce, np.mod)\n",
    "\n",
    "# X = np.asarray([[1.0, 0.0, 3.0, 8.0],\n",
    "#                 [2.0, 0.0, 1.0, 1.0],\n",
    "#                 [1.5, 2.5, 1.0, 0.0]])\n",
    "# n = 4\n",
    "# M = np.logical_and.reduce(np.mod(X, 1) == 0, axis=-1)\n",
    "# M &= (X.sum(axis=-1) == n)\n",
    "# print (X[M])\n",
    "100. 对于一个一维数组X，计算它boostrapped之后的95%置信区间的平均值。\n",
    "(Compute bootstrapped 95% confidence intervals for the mean of a 1D array X，i.e. resample the elements of an array with replacement N times, compute the mean of each sample, and then compute percentiles over the means). (★★★)\n",
    "(提示: np.percentile)\n",
    "\n",
    "# X = np.random.randn(100) # random 1D array\n",
    "# N = 1000 # number of bootstrap samples\n",
    "# idx = np.random.randint(0, X.size, (N, X.size))\n",
    "# means = X[idx].mean(axis=1)\n",
    "# confint = np.percentile(means, [2.5, 97.5])\n",
    "# print (confint)\n"
   ],
   "metadata": {
    "collapsed": false,
    "pycharm": {
     "name": "#%%\n"
    }
   }
  }
 ],
 "metadata": {
  "kernelspec": {
   "display_name": "Python 3",
   "language": "python",
   "name": "python3"
  },
  "language_info": {
   "codemirror_mode": {
    "name": "ipython",
    "version": 2
   },
   "file_extension": ".py",
   "mimetype": "text/x-python",
   "name": "python",
   "nbconvert_exporter": "python",
   "pygments_lexer": "ipython2",
   "version": "2.7.6"
  }
 },
 "nbformat": 4,
 "nbformat_minor": 0
}